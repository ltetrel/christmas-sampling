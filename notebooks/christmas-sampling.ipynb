{
 "cells": [
  {
   "cell_type": "code",
   "execution_count": null,
   "metadata": {},
   "outputs": [],
   "source": [
    "import time\n",
    "import numpy as np\n",
    "import warnings\n",
    "warnings.filterwarnings('ignore')\n",
    "\n",
    "np.random.seed(1)\n",
    "nb_kdo = 2\n",
    "people = np.array([\"Leopard\", \"Ours\", \"Panthere de l'amour\", \"Lion\", \"Chaton\", \"Herisson\"])\n",
    "# people = np.array([\"malakz\", \"dalil\", \"malak\", \"loic\", \"sophia\", \"alain\"])\n",
    "\n",
    "to_remove = []\n",
    "while( len(to_remove) != 2):\n",
    "    peoples = np.array(nb_kdo*[people]).flatten()\n",
    "    idx = np.arange(len(peoples))\n",
    "    np.random.shuffle(idx)\n",
    "    people_kdo = []\n",
    "    \n",
    "    while((idx[::2] == idx[1::2] + 6).any()\n",
    "          or (idx[::2] + 6 == idx[1::2]).any()\n",
    "          or (idx[1::2][:5] == idx[2::2] + 6).any()\n",
    "          or (idx[1::2][:5] + 6 == idx[2::2]).any()\n",
    "          or (idx[::2] + 1 == idx[1::2] + 6).any()\n",
    "          or (idx[::2] + 6 == idx[1::2] + 1).any()\n",
    "          or (idx[1::2][:5] + 1 == idx[2::2] + 6).any()\n",
    "          or (idx[1::2][:5] + 6 == idx[2::2] + 1).any()\n",
    "          or (idx[::2] == idx[1::2] + 5).any()\n",
    "          or (idx[::2] + 5 == idx[1::2]).any()\n",
    "          or (idx[1::2][:5] - 1 == idx[2::2] + 6).any()\n",
    "          or (idx[1::2][:5] + 6 == idx[2::2] - 1).any()\n",
    "         ):\n",
    "        np.random.shuffle(idx)\n",
    "    \n",
    "    for i in range(len(people)):\n",
    "        idx_sibling = i + 1 - 2*(i%2)\n",
    "        idx_filtered = np.logical_and(np.logical_and(np.logical_and(idx != i, idx != i+6), idx != idx_sibling), idx != idx_sibling + 6)\n",
    "        to_remove = idx[idx_filtered][:2]\n",
    "        to_buy = peoples[to_remove]\n",
    "        if len(to_remove)%2 == 0 and len(to_remove)>0:\n",
    "            people_kdo += [[to_buy[0], to_buy[1]]]\n",
    "        idx = idx[np.logical_not(np.in1d(idx, to_remove))]"
   ]
  },
  {
   "cell_type": "code",
   "execution_count": null,
   "metadata": {},
   "outputs": [],
   "source": [
    "print(\"#################################################\")\n",
    "print(\"#\")\n",
    "print(\"Attention aux resultats !!\")\n",
    "print(\"#\")\n",
    "print(\"#################################################\")\n",
    "time.sleep(0.5)\n",
    "print(\".\")\n",
    "time.sleep(0.5)\n",
    "print(\"..\")\n",
    "time.sleep(0.5)\n",
    "print(\"...\")\n",
    "time.sleep(0.5)\n",
    "print(\"TADAAAAAAAAAA!!!\")\n",
    "verif_kdo = []\n",
    "for ii in range(len(people)):\n",
    "    if ii > 0:\n",
    "        time.sleep(0.1)\n",
    "        print(\"\")\n",
    "        print(\"(+) %s doit acheter un cadeau a %s et un autre a %s\" %(people[ii], people_kdo[ii][0], people_kdo[ii][1]))\n",
    "print(\"\")\n",
    "print(\"Maintenant on verifie que chacun a bien %d cadeaux, on veut de l'equite au Quebec non mais:\" %nb_kdo)\n",
    "for jj in range(len(people)):\n",
    "    print(\"(*) %s a %d cadeaux, la chance\" %( people[jj], sum(np.in1d(people_kdo, people[jj])) ))"
   ]
  },
  {
   "cell_type": "code",
   "execution_count": null,
   "metadata": {},
   "outputs": [],
   "source": []
  }
 ],
 "metadata": {
  "kernelspec": {
   "display_name": "Python 3",
   "language": "python",
   "name": "python3"
  },
  "language_info": {
   "codemirror_mode": {
    "name": "ipython",
    "version": 3
   },
   "file_extension": ".py",
   "mimetype": "text/x-python",
   "name": "python",
   "nbconvert_exporter": "python",
   "pygments_lexer": "ipython3",
   "version": "3.6.9"
  }
 },
 "nbformat": 4,
 "nbformat_minor": 4
}
